{
 "cells": [
  {
   "cell_type": "markdown",
   "id": "635db0ca",
   "metadata": {},
   "source": [
    "<span style=\"font-size: 14px;color:blue\"><b>*Project Scope*</b></span>\n",
    "<br>.......\n",
    "<br>.......\n",
    "<br>**Objectives** \n",
    "<br>.......\n",
    "<br>.......\n",
    "\n",
    "**Data Source**\n",
    "<br>........\n",
    "\n",
    "**This script performs data cleaning and outlier detection on the raw .... dataset. It handles missing values,\n",
    "removes duplicates, and identifies potential outliers using appropriate techniques. The cleaned data is then\n",
    "saved as a pickle file for further analysis and exploratory data analysis (EDA).**"
   ]
  },
  {
   "cell_type": "markdown",
   "id": "04e281c3",
   "metadata": {},
   "source": [
    "<span style=\"font-size: 22px;color:blue\">1.Import Libraries</span>"
   ]
  },
  {
   "cell_type": "code",
   "execution_count": 1,
   "id": "756ed203",
   "metadata": {},
   "outputs": [],
   "source": [
    "import pandas as pd\n",
    "import seaborn as sns\n",
    "import numpy as np\n",
    "import holidays\n",
    "from pyproj import Proj, transform\n",
    "from datetime import datetime\n"
   ]
  },
  {
   "cell_type": "markdown",
   "id": "e5725573",
   "metadata": {},
   "source": [
    "<span style=\"font-size: 22px;color:blue\">2.Read datasets</span>"
   ]
  },
  {
   "cell_type": "code",
   "execution_count": 2,
   "id": "1a60fa11",
   "metadata": {},
   "outputs": [],
   "source": []
  },
  {
   "cell_type": "markdown",
   "id": "75b0ef1f",
   "metadata": {},
   "source": [
    "<span style=\"font-size: 22px;color:blue\">3.Quickly explore the data  </span>"
   ]
  },
  {
   "cell_type": "markdown",
   "id": "2b209373",
   "metadata": {},
   "source": [
    "<span style=\"font-size: 22px;color:blue\">4.Data cleaning </span>"
   ]
  },
  {
   "cell_type": "markdown",
   "id": "8dbebf3b",
   "metadata": {},
   "source": [
    " <span style=\"font-size: 22px;color:blue\">-Finding and Dealing with missing vlaues  </span>"
   ]
  },
  {
   "cell_type": "markdown",
   "id": "9d0efc84",
   "metadata": {},
   "source": [
    " <span style=\"font-size: 22px;color:blue\">-Finding Inconsistant texts and typos </span>\n",
    " <span style=\"font-size: 22px;color:blue\">-Fixing Inconsistant texts and typos </span>"
   ]
  },
  {
   "cell_type": "markdown",
   "id": "5f21805e",
   "metadata": {},
   "source": [
    " <span style=\"font-size: 22px;color:blue\">-Finding and Removing Duplicates </span>"
   ]
  },
  {
   "cell_type": "markdown",
   "id": "0cb01db0",
   "metadata": {},
   "source": [
    " <span style=\"font-size: 22px;color:blue\">-Finding and Dealing with outliers </span> "
   ]
  },
  {
   "cell_type": "markdown",
   "id": "c5cf08d2",
   "metadata": {},
   "source": [
    " <span style=\"font-size: 22px;color:blue\">5-Create New columns </span>"
   ]
  },
  {
   "cell_type": "markdown",
   "id": "10c8eeb3",
   "metadata": {},
   "source": [
    "<span style=\"font-size: 16px\">\n",
    "****** Data has been cleaned\n",
    "... columns have been added to the ... data. \n",
    "<br> ....                : date of the ... \n",
    ".\n",
    "    \n",
    "The data frame will be saved in <i>binary</i> format(Pickle) ******\n",
    "</span> <br> <br>\n",
    "<span style=\"font-size: 20px;color:blue\">6-Create PICKE file</span>"
   ]
  },
  {
   "cell_type": "code",
   "execution_count": 59,
   "id": "902c6e3a",
   "metadata": {},
   "outputs": [],
   "source": [
    "df.to_pickle('***.pkl')\n"
   ]
  }
 ],
 "metadata": {
  "kernelspec": {
   "display_name": "Python 3 (ipykernel)",
   "language": "python",
   "name": "python3"
  },
  "language_info": {
   "codemirror_mode": {
    "name": "ipython",
    "version": 3
   },
   "file_extension": ".py",
   "mimetype": "text/x-python",
   "name": "python",
   "nbconvert_exporter": "python",
   "pygments_lexer": "ipython3",
   "version": "3.9.13"
  }
 },
 "nbformat": 4,
 "nbformat_minor": 5
}
